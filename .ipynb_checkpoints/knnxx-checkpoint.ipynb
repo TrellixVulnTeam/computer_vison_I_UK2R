{
 "cells": [
  {
   "cell_type": "markdown",
   "metadata": {},
   "source": [
    "# ECE 285 Assignment 1: KNN\n",
    "\n",
    "For this part of assignment, you are tasked to implement KNN algorithm and test it on the a subset of CIFAR10 dataset.\n",
    "\n",
    "You sould run the whole notebook and answer the question in the notebook.\n",
    "\n",
    "TO SUBMIT: PDF of this notebook with all the required outputs and answers."
   ]
  },
  {
   "cell_type": "code",
   "execution_count": 1,
   "metadata": {},
   "outputs": [],
   "source": [
    "# Import Packages\n",
    "import numpy as np\n",
    "import matplotlib.pyplot as plt\n"
   ]
  },
  {
   "cell_type": "markdown",
   "metadata": {},
   "source": [
    "## Prepare Dataset\n",
    "\n",
    "Since CIFAR10 is a relative large dataset, and KNN is quite time-consuming method, we only a small sub-set of CIFAR10 for KNN part"
   ]
  },
  {
   "cell_type": "code",
   "execution_count": 2,
   "metadata": {},
   "outputs": [
    {
     "name": "stdout",
     "output_type": "stream",
     "text": [
      "dict_keys(['x_train', 'y_train', 'x_val', 'y_val', 'x_test', 'y_test'])\n",
      "Training Set Data  Shape:  (5000, 3072)\n",
      "Training Set Label Shape:  (5000,)\n"
     ]
    }
   ],
   "source": [
    "from ece285.utils.data_processing import get_cifar10_data\n",
    "\n",
    "# Use a subset of CIFAR10 for KNN assignments\n",
    "dataset = get_cifar10_data(subset_train=5000, subset_val=250, subset_test=500)\n",
    "\n",
    "print(dataset.keys())\n",
    "print(\"Training Set Data  Shape: \", dataset[\"x_train\"].shape)\n",
    "print(\"Training Set Label Shape: \", dataset[\"y_train\"].shape)\n"
   ]
  },
  {
   "cell_type": "markdown",
   "metadata": {},
   "source": [
    "## Implementation (60%)\n",
    "\n",
    "You need to implement the KNN method in `algorithms/knn.py`. You need to fill in the prediction function(since the training of KNN is just remembering the training set).\n",
    "\n",
    "For KNN implementation, you are tasked to implement two version of it.\n",
    "\n",
    "* Two Loop Version: use one loop to iterate through training samples and one loop to iterate through test samples\n",
    "* One Loop Version: use one loop to iterate through test samples and use broadcast feature of numpy to calculate all the distance at once\n",
    "\n",
    "Note: It is possible to build a Fully Vectorized Version without explicit for loop to calculate the distance, but you do not have to do it in this assignment.\n",
    "\n",
    "For distance function, in this assignment, we use Eucliean distance between samples."
   ]
  },
  {
   "cell_type": "code",
   "execution_count": 13,
   "metadata": {},
   "outputs": [],
   "source": [
    "from ece285.algorithms import KNN\n",
    "\n",
    "knn = KNN(num_class=10)\n",
    "knn.train(\n",
    "    x_train=dataset[\"x_train\"],\n",
    "    y_train=dataset[\"y_train\"],\n",
    "    k=5,\n",
    ")\n"
   ]
  },
  {
   "cell_type": "markdown",
   "metadata": {},
   "source": [
    "### Compare the time consumption of different method\n",
    "\n",
    "In this section, you will test your different implementation of KNN method, and compare their speed."
   ]
  },
  {
   "cell_type": "code",
   "execution_count": 14,
   "metadata": {},
   "outputs": [],
   "source": [
    "from ece285.utils.evaluation import get_classification_accuracy\n"
   ]
  },
  {
   "cell_type": "code",
   "execution_count": 3,
   "metadata": {},
   "outputs": [],
   "source": [
    "\"\"\"\n",
    "K Nearest Neighbours Model\n",
    "\"\"\"\n",
    "import numpy as np\n",
    "\n",
    "\n",
    "class KNN(object):\n",
    "    def __init__(self, num_class: int):\n",
    "        self.num_class = num_class\n",
    "\n",
    "    def train(self, x_train: np.ndarray, y_train: np.ndarray, k: int):\n",
    "        \"\"\"\n",
    "        Train KNN Classifier\n",
    "\n",
    "        KNN only need to remember training set during training\n",
    "\n",
    "        Parameters:\n",
    "            x_train: Training samples ; np.ndarray with shape (N, D)\n",
    "            y_train: Training labels  ; snp.ndarray with shape (N,)\n",
    "        \"\"\"\n",
    "        self._x_train = x_train\n",
    "        self._y_train = y_train\n",
    "        self.k = k\n",
    "\n",
    "    def predict(self, x_test: np.ndarray, k: int = None, loop_count: int = 1):\n",
    "        \"\"\"\n",
    "        Use the contained training set to predict labels for test samples\n",
    "\n",
    "        Parameters:\n",
    "            x_test    : Test samples                                     ; \n",
    "            np.ndarray with shape (N, D)\n",
    "            k         : k to overwrite the one specificed during training; int\n",
    "            loop_count: parameter to choose different knn implementation ; int\n",
    "\n",
    "        Returns:\n",
    "            predicted labels for the data in X_test; a 1-dimensional array of\n",
    "                length N, where each element is an integer giving the predicted\n",
    "                class.\n",
    "        \"\"\"\n",
    "        # Fill this function in\n",
    "        k_test = k if k is not None else self.k\n",
    "\n",
    "        if loop_count == 1:\n",
    "            distance = self.calc_dis_one_loop(x_test)\n",
    "        elif loop_count == 2:\n",
    "            distance = self.calc_dis_two_loop(x_test)\n",
    "         \n",
    "        y_pred = np.zeros(distance.shape[0])\n",
    "        for i in range(distance.shape[0]):\n",
    "            single_line = distance[i]\n",
    "            k_index = np.argsort(single_line)[:k_test]\n",
    "            k_label = self._y_train[k_index]\n",
    "            count = np.bincount(k_label)\n",
    "            y_pred[i] = np.argmax(count)\n",
    "            \n",
    "            return y_pred\n",
    "        print(y_pred)\n",
    "        print(y_pred.shape)\n",
    "\n",
    "        \n",
    "        # TODO: implement me\n",
    "        pass\n",
    "\n",
    "    def calc_dis_one_loop(self, x_test: np.ndarray):\n",
    "        \"\"\"\n",
    "        Calculate distance between training samples and test samples\n",
    "\n",
    "        This function could one for loop\n",
    "\n",
    "        Parameters:\n",
    "            x_test: Test samples; np.ndarray with shape (N, D)\n",
    "            \n",
    "        \"\"\"\n",
    "        numSamples = x_test.shape[0]\n",
    "        dis = np.zeros((numSamples, self._x_train.shape[0])) \n",
    "        for i in range(numSamples):\n",
    "            dis[i] = np.sqrt(np.sum(np.square(\n",
    "                self._x_train- x_test[i] ),axis = 1))\n",
    "        return dis\n",
    "        pass\n",
    "\n",
    "    def calc_dis_two_loop(self, x_test: np.ndarray):\n",
    "        \"\"\"\n",
    "        Calculate distance between training samples and test samples\n",
    "\n",
    "        This function could contain two loop\n",
    "\n",
    "        Parameters:\n",
    "            x_test: Test samples; np.ndarray with shape (N, D)\n",
    "        \"\"\"\n",
    "        numSamples = x_test.shape[0]\n",
    "        dis = np.zeros((numSamples, self._x_train.shape[0])) \n",
    "        for i in range(numSamples):\n",
    "            for j in range(self._x_train.shape[0]):\n",
    "                dis[i][j] = np.sqrt(np.sum(np.square(\n",
    "                    self._x_train[j] - x_test[i]\n",
    "                 )))\n",
    "        \n",
    "        return dis\n",
    "        print(dis)\n",
    "        print(dis.shape)\n",
    "        # TODO: implement me\n",
    "        pass\n"
   ]
  },
  {
   "cell_type": "code",
   "execution_count": null,
   "metadata": {},
   "outputs": [],
   "source": [
    "knn = KNN(num_class=10)\n",
    "knn.train(\n",
    "    x_train=dataset[\"x_train\"],\n",
    "    y_train=dataset[\"y_train\"],\n",
    "    k=5,\n",
    ")"
   ]
  },
  {
   "cell_type": "markdown",
   "metadata": {},
   "source": [
    "#### Two Loop Version:"
   ]
  },
  {
   "cell_type": "code",
   "execution_count": 4,
   "metadata": {},
   "outputs": [
    {
     "ename": "NameError",
     "evalue": "name 'knn' is not defined",
     "output_type": "error",
     "traceback": [
      "\u001b[1;31m---------------------------------------------------------------------------\u001b[0m",
      "\u001b[1;31mNameError\u001b[0m                                 Traceback (most recent call last)",
      "\u001b[1;32m~\\AppData\\Local\\Temp/ipykernel_29756/2509437987.py\u001b[0m in \u001b[0;36m<module>\u001b[1;34m\u001b[0m\n\u001b[0;32m      2\u001b[0m \u001b[1;33m\u001b[0m\u001b[0m\n\u001b[0;32m      3\u001b[0m \u001b[0mc_t\u001b[0m \u001b[1;33m=\u001b[0m \u001b[0mtime\u001b[0m\u001b[1;33m.\u001b[0m\u001b[0mtime\u001b[0m\u001b[1;33m(\u001b[0m\u001b[1;33m)\u001b[0m\u001b[1;33m\u001b[0m\u001b[1;33m\u001b[0m\u001b[0m\n\u001b[1;32m----> 4\u001b[1;33m \u001b[0mprediction\u001b[0m \u001b[1;33m=\u001b[0m \u001b[0mknn\u001b[0m\u001b[1;33m.\u001b[0m\u001b[0mpredict\u001b[0m\u001b[1;33m(\u001b[0m\u001b[0mdataset\u001b[0m\u001b[1;33m[\u001b[0m\u001b[1;34m\"x_test\"\u001b[0m\u001b[1;33m]\u001b[0m\u001b[1;33m,\u001b[0m \u001b[0mloop_count\u001b[0m\u001b[1;33m=\u001b[0m\u001b[1;36m2\u001b[0m\u001b[1;33m)\u001b[0m\u001b[1;33m\u001b[0m\u001b[1;33m\u001b[0m\u001b[0m\n\u001b[0m\u001b[0;32m      5\u001b[0m \u001b[0mprint\u001b[0m\u001b[1;33m(\u001b[0m\u001b[1;34m\"Two Loop Prediction Time:\"\u001b[0m\u001b[1;33m,\u001b[0m \u001b[0mtime\u001b[0m\u001b[1;33m.\u001b[0m\u001b[0mtime\u001b[0m\u001b[1;33m(\u001b[0m\u001b[1;33m)\u001b[0m \u001b[1;33m-\u001b[0m \u001b[0mc_t\u001b[0m\u001b[1;33m)\u001b[0m\u001b[1;33m\u001b[0m\u001b[1;33m\u001b[0m\u001b[0m\n\u001b[0;32m      6\u001b[0m \u001b[1;33m\u001b[0m\u001b[0m\n",
      "\u001b[1;31mNameError\u001b[0m: name 'knn' is not defined"
     ]
    }
   ],
   "source": [
    "import time\n",
    "\n",
    "c_t = time.time()\n",
    "prediction = knn.predict(dataset[\"x_test\"], loop_count=2)\n",
    "print(\"Two Loop Prediction Time:\", time.time() - c_t)\n",
    "\n",
    "test_acc = get_classification_accuracy(prediction, dataset[\"y_test\"])\n",
    "print(\"Test Accuracy:\", test_acc)\n"
   ]
  },
  {
   "cell_type": "markdown",
   "metadata": {},
   "source": [
    "#### One Loop Version "
   ]
  },
  {
   "cell_type": "code",
   "execution_count": 17,
   "metadata": {},
   "outputs": [
    {
     "name": "stdout",
     "output_type": "stream",
     "text": [
      "One Loop Prediction Time: 37.19081234931946\n",
      "Test Accuracy: 0.114\n"
     ]
    }
   ],
   "source": [
    "import time\n",
    "\n",
    "c_t = time.time()\n",
    "prediction = knn.predict(dataset[\"x_test\"], loop_count=1)\n",
    "print(\"One Loop Prediction Time:\", time.time() - c_t)\n",
    "\n",
    "test_acc = get_classification_accuracy(prediction, dataset[\"y_test\"])\n",
    "print(\"Test Accuracy:\", test_acc)\n"
   ]
  },
  {
   "cell_type": "markdown",
   "metadata": {},
   "source": [
    "**Your different implementation should output the exact same result**\n"
   ]
  },
  {
   "cell_type": "markdown",
   "metadata": {},
   "source": [
    "## Test different Hyper-parameter(20%)\n",
    "\n",
    "For KNN, there is only one hyper-parameter of the algorithm: How many nearest neighbour to use(**K**).\n",
    "\n",
    "Here, you are provided the code to test different k for the same dataset."
   ]
  },
  {
   "cell_type": "code",
   "execution_count": null,
   "metadata": {
    "scrolled": true
   },
   "outputs": [],
   "source": [
    "accuracies = []\n",
    "\n",
    "k_candidates = [1, 3, 5, 10, 20, 50]\n",
    "for k_cand in k_candidates:\n",
    "    prediction = knn.predict(x_test=dataset[\"x_test\"], k=k_cand)\n",
    "    acc = get_classification_accuracy(prediction, dataset[\"y_test\"])\n",
    "    accuracies.append(acc)\n",
    "plt.ylabel(\"Accuracy\")\n",
    "plt.xlabel(\"K\")\n",
    "plt.plot(k_candidates, accuracies)\n",
    "plt.show()\n"
   ]
  },
  {
   "cell_type": "markdown",
   "metadata": {},
   "source": [
    "### Inline Question 1:\n",
    "\n",
    "Please describe the output result you get, and provide some explanation as well.\n",
    "\n",
    "\n",
    "### Your Answer:\n",
    "\n",
    "**Put Your Answer Here**"
   ]
  },
  {
   "cell_type": "markdown",
   "metadata": {},
   "source": [
    "## Try different feature representation(20%)\n",
    "\n",
    "Since machine learning method rely heavily on the feature extraction, you will see how different feature representation affect the performance of the algorithm in this section. \n",
    "\n",
    "You are provided the code about using **HOG** descriptor to represent samples in the notebook."
   ]
  },
  {
   "cell_type": "code",
   "execution_count": null,
   "metadata": {},
   "outputs": [],
   "source": [
    "from ece285.utils.data_processing import get_cifar10_data\n",
    "from ece285.utils.data_processing import HOG_preprocess\n",
    "from functools import partial\n",
    "\n",
    "# Delete previous dataset to save memory\n",
    "del dataset\n",
    "del knn\n",
    "\n",
    "# Use a subset of CIFAR10 for KNN assignments\n",
    "hog_p_func = partial(\n",
    "    HOG_preprocess,\n",
    "    orientations=9,\n",
    "    pixels_per_cell=(4, 4),\n",
    "    cells_per_block=(1, 1),\n",
    "    visualize=False,\n",
    "    multichannel=True,\n",
    ")\n",
    "dataset = get_cifar10_data(\n",
    "    feature_process=hog_p_func, subset_train=5000, subset_val=250, subset_test=500\n",
    ")\n"
   ]
  },
  {
   "cell_type": "code",
   "execution_count": null,
   "metadata": {},
   "outputs": [],
   "source": [
    "knn = KNN(num_class=10)\n",
    "knn.train(\n",
    "    x_train=dataset[\"x_train\"],\n",
    "    y_train=dataset[\"y_train\"],\n",
    "    k=5,\n",
    ")\n",
    "accuracies = []\n",
    "\n",
    "k_candidates = [1, 3, 5, 10, 20, 50]\n",
    "for k_cand in k_candidates:\n",
    "    prediction = knn.predict(x_test=dataset[\"x_test\"], k=k_cand)\n",
    "    acc = get_classification_accuracy(prediction, dataset[\"y_test\"])\n",
    "    accuracies.append(acc)\n",
    "\n",
    "plt.ylabel(\"Accuracy\")\n",
    "plt.xlabel(\"K\")\n",
    "plt.plot(k_candidates, accuracies)\n",
    "plt.show()\n"
   ]
  },
  {
   "cell_type": "markdown",
   "metadata": {},
   "source": [
    "### Inline Question 2:\n",
    "\n",
    "Please describe the output result you get, compare with the result you get in the previous section, and provide some explanation as well.\n",
    "\n",
    "### Your Answer:\n",
    "\n",
    "**Put Your Answer Here**"
   ]
  }
 ],
 "metadata": {
  "kernelspec": {
   "display_name": "Python 3 (ipykernel)",
   "language": "python",
   "name": "python3"
  },
  "language_info": {
   "codemirror_mode": {
    "name": "ipython",
    "version": 3
   },
   "file_extension": ".py",
   "mimetype": "text/x-python",
   "name": "python",
   "nbconvert_exporter": "python",
   "pygments_lexer": "ipython3",
   "version": "3.9.7"
  }
 },
 "nbformat": 4,
 "nbformat_minor": 2
}
